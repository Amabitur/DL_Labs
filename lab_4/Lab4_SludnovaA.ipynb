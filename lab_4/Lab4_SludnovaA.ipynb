{
 "cells": [
  {
   "cell_type": "markdown",
   "metadata": {
    "id": "dwMSFXHCY0mX"
   },
   "source": [
    "# Лабораторная работа 4"
   ]
  },
  {
   "cell_type": "code",
   "execution_count": 1,
   "metadata": {
    "colab": {
     "base_uri": "https://localhost:8080/"
    },
    "executionInfo": {
     "elapsed": 731,
     "status": "ok",
     "timestamp": 1604734295977,
     "user": {
      "displayName": "Алена Слуднова",
      "photoUrl": "",
      "userId": "01430899448123173951"
     },
     "user_tz": -240
    },
    "id": "FQ1yy0qWY5Ny",
    "outputId": "58a7988b-eebf-4c7c-a709-63ce4e7644e3"
   },
   "outputs": [
    {
     "name": "stdout",
     "output_type": "stream",
     "text": [
      "Found GPU at: /device:GPU:0\n"
     ]
    }
   ],
   "source": [
    "#%tensorflow_version 2.x\n",
    "import tensorflow as tf\n",
    "device = tf.test.gpu_device_name()\n",
    "if device != '/device:GPU:0':\n",
    "    raise SystemError('GPU device not found')\n",
    "print('Found GPU at: {}'.format(device))"
   ]
  },
  {
   "cell_type": "code",
   "execution_count": 2,
   "metadata": {
    "colab": {
     "base_uri": "https://localhost:8080/"
    },
    "executionInfo": {
     "elapsed": 659,
     "status": "ok",
     "timestamp": 1604740015984,
     "user": {
      "displayName": "Алена Слуднова",
      "photoUrl": "",
      "userId": "01430899448123173951"
     },
     "user_tz": -240
    },
    "id": "4AeIctYe9T6u",
    "outputId": "eb136f82-b6f7-4e64-8a91-bb18aeea7186"
   },
   "outputs": [
    {
     "name": "stdout",
     "output_type": "stream",
     "text": [
      "Using device:  /device:GPU:0\n"
     ]
    }
   ],
   "source": [
    "USE_GPU = True\n",
    "\n",
    "if USE_GPU:\n",
    "    device = '/device:GPU:0'\n",
    "else:\n",
    "    device = '/cpu:0'\n",
    "\n",
    "# Constant to control how often we print when training models\n",
    "print_every = 100\n",
    "\n",
    "print('Using device: ', device)"
   ]
  },
  {
   "cell_type": "markdown",
   "metadata": {
    "id": "30100IkUY0mY"
   },
   "source": [
    "Tensorflow 2.x\n",
    "\n",
    "1) Подготовка данных\n",
    "\n",
    "2) Использование Keras Model API\n",
    "\n",
    "3) Использование Keras Sequential + Functional API"
   ]
  },
  {
   "cell_type": "markdown",
   "metadata": {
    "id": "62_LV-h6Y0mZ"
   },
   "source": [
    "https://www.tensorflow.org/tutorials"
   ]
  },
  {
   "cell_type": "markdown",
   "metadata": {
    "id": "y_7A9oAIY0mZ"
   },
   "source": [
    "Для выполнения лабораторной работы необходимо установить tensorflow версии 2.0 или выше .\n",
    "\n",
    "Рекомендуется использовать возможности Colab'а по обучению моделей на GPU.\n",
    "\n"
   ]
  },
  {
   "cell_type": "code",
   "execution_count": 3,
   "metadata": {
    "executionInfo": {
     "elapsed": 632,
     "status": "ok",
     "timestamp": 1604740019148,
     "user": {
      "displayName": "Алена Слуднова",
      "photoUrl": "",
      "userId": "01430899448123173951"
     },
     "user_tz": -240
    },
    "id": "sZ6xA7ztY0ma"
   },
   "outputs": [],
   "source": [
    "import os\n",
    "import tensorflow as tf\n",
    "import numpy as np\n",
    "import math\n",
    "import timeit\n",
    "import matplotlib.pyplot as plt\n",
    "\n",
    "%matplotlib inline"
   ]
  },
  {
   "cell_type": "markdown",
   "metadata": {
    "id": "_3Bye1E7Y0md"
   },
   "source": [
    "# Подготовка данных\n",
    "Загрузите набор данных из предыдущей лабораторной работы. "
   ]
  },
  {
   "cell_type": "code",
   "execution_count": 4,
   "metadata": {
    "colab": {
     "base_uri": "https://localhost:8080/"
    },
    "executionInfo": {
     "elapsed": 3720,
     "status": "ok",
     "timestamp": 1604740023347,
     "user": {
      "displayName": "Алена Слуднова",
      "photoUrl": "",
      "userId": "01430899448123173951"
     },
     "user_tz": -240
    },
    "id": "8eMq11faY0md",
    "outputId": "b4478fdf-0471-4c4c-ef48-36e3ba295a0b"
   },
   "outputs": [
    {
     "name": "stdout",
     "output_type": "stream",
     "text": [
      "Train data shape:  (49000, 32, 32, 3)\n",
      "Train labels shape:  (49000,) int32\n",
      "Validation data shape:  (1000, 32, 32, 3)\n",
      "Validation labels shape:  (1000,)\n",
      "Test data shape:  (10000, 32, 32, 3)\n",
      "Test labels shape:  (10000,)\n"
     ]
    }
   ],
   "source": [
    "def load_cifar10(num_training=49000, num_validation=1000, num_test=10000):\n",
    "    \"\"\"\n",
    "    Fetch the CIFAR-10 dataset from the web and perform preprocessing to prepare\n",
    "    it for the two-layer neural net classifier. These are the same steps as\n",
    "    we used for the SVM, but condensed to a single function.\n",
    "    \"\"\"\n",
    "    # Load the raw CIFAR-10 dataset and use appropriate data types and shapes\n",
    "    cifar10 = tf.keras.datasets.cifar10.load_data()\n",
    "    (X_train, y_train), (X_test, y_test) = cifar10\n",
    "    X_train = np.asarray(X_train, dtype=np.float32)\n",
    "    y_train = np.asarray(y_train, dtype=np.int32).flatten()\n",
    "    X_test = np.asarray(X_test, dtype=np.float32)\n",
    "    y_test = np.asarray(y_test, dtype=np.int32).flatten()\n",
    "\n",
    "    # Subsample the data\n",
    "    mask = range(num_training, num_training + num_validation)\n",
    "    X_val = X_train[mask]\n",
    "    y_val = y_train[mask]\n",
    "    mask = range(num_training)\n",
    "    X_train = X_train[mask]\n",
    "    y_train = y_train[mask]\n",
    "    mask = range(num_test)\n",
    "    X_test = X_test[mask]\n",
    "    y_test = y_test[mask]\n",
    "\n",
    "    # Normalize the data: subtract the mean pixel and divide by std\n",
    "    mean_pixel = X_train.mean(axis=(0, 1, 2), keepdims=True)\n",
    "    std_pixel = X_train.std(axis=(0, 1, 2), keepdims=True)\n",
    "    X_train = (X_train - mean_pixel) / std_pixel\n",
    "    X_val = (X_val - mean_pixel) / std_pixel\n",
    "    X_test = (X_test - mean_pixel) / std_pixel\n",
    "\n",
    "    return X_train, y_train, X_val, y_val, X_test, y_test\n",
    "\n",
    "# If there are errors with SSL downloading involving self-signed certificates,\n",
    "# it may be that your Python version was recently installed on the current machine.\n",
    "# See: https://github.com/tensorflow/tensorflow/issues/10779\n",
    "# To fix, run the command: /Applications/Python\\ 3.7/Install\\ Certificates.command\n",
    "#   ...replacing paths as necessary.\n",
    "\n",
    "# Invoke the above function to get our data.\n",
    "NHW = (0, 1, 2)\n",
    "X_train, y_train, X_val, y_val, X_test, y_test = load_cifar10()\n",
    "print('Train data shape: ', X_train.shape)\n",
    "print('Train labels shape: ', y_train.shape, y_train.dtype)\n",
    "print('Validation data shape: ', X_val.shape)\n",
    "print('Validation labels shape: ', y_val.shape)\n",
    "print('Test data shape: ', X_test.shape)\n",
    "print('Test labels shape: ', y_test.shape)"
   ]
  },
  {
   "cell_type": "code",
   "execution_count": 5,
   "metadata": {
    "executionInfo": {
     "elapsed": 2519,
     "status": "ok",
     "timestamp": 1604740023348,
     "user": {
      "displayName": "Алена Слуднова",
      "photoUrl": "",
      "userId": "01430899448123173951"
     },
     "user_tz": -240
    },
    "id": "L4QFWD_FY0mf"
   },
   "outputs": [],
   "source": [
    "class Dataset(object):\n",
    "    def __init__(self, X, y, batch_size, shuffle=False):\n",
    "        \"\"\"\n",
    "        Construct a Dataset object to iterate over data X and labels y\n",
    "        \n",
    "        Inputs:\n",
    "        - X: Numpy array of data, of any shape\n",
    "        - y: Numpy array of labels, of any shape but with y.shape[0] == X.shape[0]\n",
    "        - batch_size: Integer giving number of elements per minibatch\n",
    "        - shuffle: (optional) Boolean, whether to shuffle the data on each epoch\n",
    "        \"\"\"\n",
    "        assert X.shape[0] == y.shape[0], 'Got different numbers of data and labels'\n",
    "        self.X, self.y = X, y\n",
    "        self.batch_size, self.shuffle = batch_size, shuffle\n",
    "\n",
    "    def __iter__(self):\n",
    "        N, B = self.X.shape[0], self.batch_size\n",
    "        idxs = np.arange(N)\n",
    "        if self.shuffle:\n",
    "            np.random.shuffle(idxs)\n",
    "        return iter((self.X[i:i+B], self.y[i:i+B]) for i in range(0, N, B))\n",
    "\n",
    "\n",
    "train_dset = Dataset(X_train, y_train, batch_size=64, shuffle=True)\n",
    "val_dset = Dataset(X_val, y_val, batch_size=64, shuffle=False)\n",
    "test_dset = Dataset(X_test, y_test, batch_size=64)"
   ]
  },
  {
   "cell_type": "code",
   "execution_count": 6,
   "metadata": {
    "colab": {
     "base_uri": "https://localhost:8080/"
    },
    "executionInfo": {
     "elapsed": 2079,
     "status": "ok",
     "timestamp": 1604740023349,
     "user": {
      "displayName": "Алена Слуднова",
      "photoUrl": "",
      "userId": "01430899448123173951"
     },
     "user_tz": -240
    },
    "id": "YPGXfiboY0mi",
    "outputId": "c2600bb8-9d30-4a31-a5b4-c73fbb54382f"
   },
   "outputs": [
    {
     "name": "stdout",
     "output_type": "stream",
     "text": [
      "0 (64, 32, 32, 3) (64,)\n",
      "1 (64, 32, 32, 3) (64,)\n",
      "2 (64, 32, 32, 3) (64,)\n",
      "3 (64, 32, 32, 3) (64,)\n",
      "4 (64, 32, 32, 3) (64,)\n",
      "5 (64, 32, 32, 3) (64,)\n",
      "6 (64, 32, 32, 3) (64,)\n"
     ]
    }
   ],
   "source": [
    "# We can iterate through a dataset like this:\n",
    "for t, (x, y) in enumerate(train_dset):\n",
    "    print(t, x.shape, y.shape)\n",
    "    if t > 5: break"
   ]
  },
  {
   "cell_type": "markdown",
   "metadata": {
    "id": "n0mET0AdY0mm"
   },
   "source": [
    "\n"
   ]
  },
  {
   "cell_type": "markdown",
   "metadata": {
    "id": "j9-eObfxY0mm"
   },
   "source": [
    "#  Keras Model Subclassing API"
   ]
  },
  {
   "cell_type": "markdown",
   "metadata": {
    "id": "ibZ9peJZY0mm"
   },
   "source": [
    "\n",
    "Для реализации собственной модели с помощью Keras Model Subclassing API необходимо выполнить следующие шаги:\n",
    "\n",
    "1) Определить новый класс, который является наследником tf.keras.Model.\n",
    "\n",
    "2) В методе __init__() определить все необходимые слои из модуля tf.keras.layer\n",
    "\n",
    "3) Реализовать прямой проход в методе call() на основе слоев, объявленных в __init__()\n",
    "\n",
    "Ниже приведен пример использования keras API для определения двухслойной полносвязной сети. \n",
    "\n",
    "https://www.tensorflow.org/versions/r2.0/api_docs/python/tf/keras"
   ]
  },
  {
   "cell_type": "code",
   "execution_count": 7,
   "metadata": {
    "colab": {
     "base_uri": "https://localhost:8080/"
    },
    "executionInfo": {
     "elapsed": 743,
     "status": "ok",
     "timestamp": 1604740024032,
     "user": {
      "displayName": "Алена Слуднова",
      "photoUrl": "",
      "userId": "01430899448123173951"
     },
     "user_tz": -240
    },
    "id": "3Y1hP_kAY0mn",
    "outputId": "1dcf9985-5e86-41e0-bd12-5db4eb833b12"
   },
   "outputs": [
    {
     "name": "stdout",
     "output_type": "stream",
     "text": [
      "(64, 10)\n"
     ]
    }
   ],
   "source": [
    "class TwoLayerFC(tf.keras.Model):\n",
    "    def __init__(self, hidden_size, num_classes):\n",
    "        super(TwoLayerFC, self).__init__()        \n",
    "        initializer = tf.initializers.VarianceScaling(scale=2.0)\n",
    "        self.fc1 = tf.keras.layers.Dense(hidden_size, activation='relu',\n",
    "                                   kernel_initializer=initializer)\n",
    "        self.fc2 = tf.keras.layers.Dense(num_classes, activation='softmax',\n",
    "                                   kernel_initializer=initializer)\n",
    "        self.flatten = tf.keras.layers.Flatten()\n",
    "    \n",
    "    def call(self, x, training=False):\n",
    "        x = self.flatten(x)\n",
    "        x = self.fc1(x)\n",
    "        x = self.fc2(x)\n",
    "        return x\n",
    "\n",
    "\n",
    "def test_TwoLayerFC():\n",
    "    \"\"\" A small unit test to exercise the TwoLayerFC model above. \"\"\"\n",
    "    input_size, hidden_size, num_classes = 50, 42, 10\n",
    "    x = tf.zeros((64, input_size))\n",
    "    model = TwoLayerFC(hidden_size, num_classes)\n",
    "    with tf.device(device):\n",
    "        scores = model(x)\n",
    "        print(scores.shape)\n",
    "        \n",
    "test_TwoLayerFC()"
   ]
  },
  {
   "cell_type": "markdown",
   "metadata": {
    "id": "xGVleEPEY0mp"
   },
   "source": [
    "Реализуйте трехслойную CNN для вашей задачи классификации. \n",
    "\n",
    "Архитектура сети:\n",
    "    \n",
    "1. Сверточный слой (5 x 5 kernels, zero-padding = 2)\n",
    "2. Функция активации ReLU \n",
    "3. Сверточный слой (3 x 3 kernels, zero-padding = 1)\n",
    "4. Функция активации ReLU \n",
    "5. Полносвязный слой \n",
    "6. Функция активации Softmax \n",
    "\n",
    "https://www.tensorflow.org/versions/r2.0/api_docs/python/tf/keras/layers/Conv2D\n",
    "\n",
    "https://www.tensorflow.org/versions/r2.0/api_docs/python/tf/keras/layers/Dense"
   ]
  },
  {
   "cell_type": "code",
   "execution_count": 8,
   "metadata": {
    "executionInfo": {
     "elapsed": 818,
     "status": "ok",
     "timestamp": 1604740024769,
     "user": {
      "displayName": "Алена Слуднова",
      "photoUrl": "",
      "userId": "01430899448123173951"
     },
     "user_tz": -240
    },
    "id": "PjHraKznY0mq"
   },
   "outputs": [],
   "source": [
    "class ThreeLayerConvNet(tf.keras.Model):\n",
    "    def __init__(self, channel_1, channel_2, num_classes):\n",
    "        super(ThreeLayerConvNet, self).__init__()\n",
    "        ########################################################################\n",
    "        # TODO: Implement the __init__ method for a three-layer ConvNet. You   #\n",
    "        # should instantiate layer objects to be used in the forward pass.     #\n",
    "        ########################################################################\n",
    "        # *****START OF YOUR CODE (DO NOT DELETE/MODIFY THIS LINE)*****\n",
    "        self.conv1 = tf.keras.layers.Conv2D(channel_1, 5,\n",
    "                                            padding='same',\n",
    "                                            activation='relu',\n",
    "                                            )\n",
    "        self.conv2 = tf.keras.layers.Conv2D(channel_2, 3,\n",
    "                                            padding='same',\n",
    "                                            activation='relu',\n",
    "                                            )\n",
    "        self.fc = tf.keras.layers.Dense(num_classes,\n",
    "                                        activation='softmax',\n",
    "                                        )\n",
    "        self.flatten = tf.keras.layers.Flatten()\n",
    "        # *****END OF YOUR CODE (DO NOT DELETE/MODIFY THIS LINE)*****\n",
    "        ########################################################################\n",
    "        #                           END OF YOUR CODE                           #\n",
    "        ########################################################################\n",
    "        \n",
    "    def call(self, x, training=False):\n",
    "        scores = None\n",
    "        ########################################################################\n",
    "        # TODO: Implement the forward pass for a three-layer ConvNet. You      #\n",
    "        # should use the layer objects defined in the __init__ method.         #\n",
    "        ########################################################################\n",
    "        # *****START OF YOUR CODE (DO NOT DELETE/MODIFY THIS LINE)*****\n",
    "\n",
    "        x = self.conv1(x)\n",
    "        x = self.conv2(x)\n",
    "        x = self.flatten(x)\n",
    "        scores = self.fc(x)\n",
    "\n",
    "\n",
    "        # *****END OF YOUR CODE (DO NOT DELETE/MODIFY THIS LINE)*****\n",
    "        ########################################################################\n",
    "        #                           END OF YOUR CODE                           #\n",
    "        ########################################################################        \n",
    "        return scores"
   ]
  },
  {
   "cell_type": "code",
   "execution_count": 9,
   "metadata": {
    "colab": {
     "base_uri": "https://localhost:8080/"
    },
    "executionInfo": {
     "elapsed": 588,
     "status": "ok",
     "timestamp": 1604740024770,
     "user": {
      "displayName": "Алена Слуднова",
      "photoUrl": "",
      "userId": "01430899448123173951"
     },
     "user_tz": -240
    },
    "id": "RkBOVm2gY0ms",
    "outputId": "ff9eefbe-f464-413d-dd13-2f1140f1a9e9"
   },
   "outputs": [
    {
     "name": "stdout",
     "output_type": "stream",
     "text": [
      "(64, 10)\n"
     ]
    }
   ],
   "source": [
    "def test_ThreeLayerConvNet():    \n",
    "    channel_1, channel_2, num_classes = 12, 8, 10\n",
    "    model = ThreeLayerConvNet(channel_1, channel_2, num_classes)\n",
    "    with tf.device(device):\n",
    "        x = tf.zeros((64, 3, 32, 32))\n",
    "        scores = model(x)\n",
    "        print(scores.shape)\n",
    "\n",
    "test_ThreeLayerConvNet()"
   ]
  },
  {
   "cell_type": "markdown",
   "metadata": {
    "id": "qEYAKvdEY0mu"
   },
   "source": [
    "Пример реализации процесса обучения:"
   ]
  },
  {
   "cell_type": "code",
   "execution_count": 10,
   "metadata": {
    "executionInfo": {
     "elapsed": 648,
     "status": "ok",
     "timestamp": 1604740026129,
     "user": {
      "displayName": "Алена Слуднова",
      "photoUrl": "",
      "userId": "01430899448123173951"
     },
     "user_tz": -240
    },
    "id": "nE7k_fkkY0mv"
   },
   "outputs": [],
   "source": [
    "def train_part34(model_init_fn, optimizer_init_fn, num_epochs=1, is_training=False):\n",
    "    \"\"\"\n",
    "    Simple training loop for use with models defined using tf.keras. It trains\n",
    "    a model for one epoch on the CIFAR-10 training set and periodically checks\n",
    "    accuracy on the CIFAR-10 validation set.\n",
    "    \n",
    "    Inputs:\n",
    "    - model_init_fn: A function that takes no parameters; when called it\n",
    "      constructs the model we want to train: model = model_init_fn()\n",
    "    - optimizer_init_fn: A function which takes no parameters; when called it\n",
    "      constructs the Optimizer object we will use to optimize the model:\n",
    "      optimizer = optimizer_init_fn()\n",
    "    - num_epochs: The number of epochs to train for\n",
    "    \n",
    "    Returns: Nothing, but prints progress during trainingn\n",
    "    \"\"\"    \n",
    "    with tf.device(device):\n",
    "\n",
    "        \n",
    "        loss_fn = tf.keras.losses.SparseCategoricalCrossentropy()\n",
    "        \n",
    "        model = model_init_fn()\n",
    "        optimizer = optimizer_init_fn()\n",
    "        \n",
    "        train_loss = tf.keras.metrics.Mean(name='train_loss')\n",
    "        train_accuracy = tf.keras.metrics.SparseCategoricalAccuracy(name='train_accuracy')\n",
    "    \n",
    "        val_loss = tf.keras.metrics.Mean(name='val_loss')\n",
    "        val_accuracy = tf.keras.metrics.SparseCategoricalAccuracy(name='val_accuracy')\n",
    "        \n",
    "        t = 0\n",
    "        for epoch in range(num_epochs):\n",
    "            \n",
    "            # Reset the metrics - https://www.tensorflow.org/alpha/guide/migration_guide#new-style_metrics\n",
    "            train_loss.reset_states()\n",
    "            train_accuracy.reset_states()\n",
    "            \n",
    "            for x_np, y_np in train_dset:\n",
    "                with tf.GradientTape() as tape:\n",
    "                    \n",
    "                    # Use the model function to build the forward pass.\n",
    "                    scores = model(x_np, training=is_training)\n",
    "                    loss = loss_fn(y_np, scores)\n",
    "      \n",
    "                    gradients = tape.gradient(loss, model.trainable_variables)\n",
    "                    optimizer.apply_gradients(zip(gradients, model.trainable_variables))\n",
    "                    \n",
    "                    # Update the metrics\n",
    "                    train_loss.update_state(loss)\n",
    "                    train_accuracy.update_state(y_np, scores)\n",
    "                    \n",
    "                    if t % print_every == 0:\n",
    "                        val_loss.reset_states()\n",
    "                        val_accuracy.reset_states()\n",
    "                        for test_x, test_y in val_dset:\n",
    "                            # During validation at end of epoch, training set to False\n",
    "                            prediction = model(test_x, training=False)\n",
    "                            t_loss = loss_fn(test_y, prediction)\n",
    "\n",
    "                            val_loss.update_state(t_loss)\n",
    "                            val_accuracy.update_state(test_y, prediction)\n",
    "                        \n",
    "                        template = 'Iteration {}, Epoch {}, Loss: {}, Accuracy: {}, Val Loss: {}, Val Accuracy: {}'\n",
    "                        print (template.format(t, epoch+1,\n",
    "                                             train_loss.result(),\n",
    "                                             train_accuracy.result()*100,\n",
    "                                             val_loss.result(),\n",
    "                                             val_accuracy.result()*100))\n",
    "                    t += 1"
   ]
  },
  {
   "cell_type": "code",
   "execution_count": 11,
   "metadata": {
    "colab": {
     "base_uri": "https://localhost:8080/"
    },
    "executionInfo": {
     "elapsed": 67201,
     "status": "ok",
     "timestamp": 1604740093691,
     "user": {
      "displayName": "Алена Слуднова",
      "photoUrl": "",
      "userId": "01430899448123173951"
     },
     "user_tz": -240
    },
    "id": "wkrhQgP9Y0mx",
    "outputId": "6e6aa8e0-4aed-4bda-eefb-d363aea3d87e"
   },
   "outputs": [
    {
     "name": "stdout",
     "output_type": "stream",
     "text": [
      "Iteration 0, Epoch 1, Loss: 3.048341751098633, Accuracy: 6.25, Val Loss: 3.0606014728546143, Val Accuracy: 13.199999809265137\n",
      "Iteration 100, Epoch 1, Loss: 2.2526936531066895, Accuracy: 28.078588485717773, Val Loss: 1.8996381759643555, Val Accuracy: 37.400001525878906\n",
      "Iteration 200, Epoch 1, Loss: 2.079308271408081, Accuracy: 32.462684631347656, Val Loss: 1.7915847301483154, Val Accuracy: 38.900001525878906\n",
      "Iteration 300, Epoch 1, Loss: 2.0019450187683105, Accuracy: 34.31789779663086, Val Loss: 1.854075312614441, Val Accuracy: 37.0\n",
      "Iteration 400, Epoch 1, Loss: 1.9309961795806885, Accuracy: 36.17908477783203, Val Loss: 1.73353111743927, Val Accuracy: 41.0\n",
      "Iteration 500, Epoch 1, Loss: 1.8855661153793335, Accuracy: 37.181888580322266, Val Loss: 1.6666195392608643, Val Accuracy: 42.89999771118164\n",
      "Iteration 600, Epoch 1, Loss: 1.8562592267990112, Accuracy: 37.986167907714844, Val Loss: 1.6913576126098633, Val Accuracy: 41.60000228881836\n",
      "Iteration 700, Epoch 1, Loss: 1.8311114311218262, Accuracy: 38.60556411743164, Val Loss: 1.6340858936309814, Val Accuracy: 44.400001525878906\n"
     ]
    }
   ],
   "source": [
    "hidden_size, num_classes = 4000, 10\n",
    "learning_rate = 1e-2\n",
    "\n",
    "def model_init_fn():\n",
    "    return TwoLayerFC(hidden_size, num_classes)\n",
    "\n",
    "def optimizer_init_fn():\n",
    "    return tf.keras.optimizers.SGD(learning_rate=learning_rate)\n",
    "\n",
    "train_part34(model_init_fn, optimizer_init_fn)"
   ]
  },
  {
   "cell_type": "markdown",
   "metadata": {
    "id": "OIa5osujY0my"
   },
   "source": [
    "Обучите трехслойную CNN. В tf.keras.optimizers.SGD укажите Nesterov momentum = 0.9 . \n",
    "\n",
    "https://www.tensorflow.org/versions/r2.0/api_docs/python/tf/optimizers/SGD\n",
    "\n",
    "Значение accuracy на валидационной выборке после 1 эпохи обучения должно быть > 0.5 ."
   ]
  },
  {
   "cell_type": "code",
   "execution_count": 12,
   "metadata": {
    "colab": {
     "base_uri": "https://localhost:8080/"
    },
    "executionInfo": {
     "elapsed": 143201,
     "status": "ok",
     "timestamp": 1604740236897,
     "user": {
      "displayName": "Алена Слуднова",
      "photoUrl": "",
      "userId": "01430899448123173951"
     },
     "user_tz": -240
    },
    "id": "x1TKNGlLY0mz",
    "outputId": "a0b71b74-99e3-4718-e981-cf445a3ea0a4"
   },
   "outputs": [
    {
     "name": "stdout",
     "output_type": "stream",
     "text": [
      "Iteration 0, Epoch 1, Loss: 2.283267021179199, Accuracy: 18.75, Val Loss: 2.342148542404175, Val Accuracy: 10.800000190734863\n",
      "Iteration 100, Epoch 1, Loss: 1.879780650138855, Accuracy: 33.24566650390625, Val Loss: 1.651153564453125, Val Accuracy: 42.20000076293945\n",
      "Iteration 200, Epoch 1, Loss: 1.7345596551895142, Accuracy: 38.611629486083984, Val Loss: 1.4760578870773315, Val Accuracy: 49.599998474121094\n",
      "Iteration 300, Epoch 1, Loss: 1.6480772495269775, Accuracy: 41.51785659790039, Val Loss: 1.424744725227356, Val Accuracy: 50.80000305175781\n",
      "Iteration 400, Epoch 1, Loss: 1.5794930458068848, Accuracy: 43.92534255981445, Val Loss: 1.3599034547805786, Val Accuracy: 51.70000076293945\n",
      "Iteration 500, Epoch 1, Loss: 1.5330846309661865, Accuracy: 45.59006881713867, Val Loss: 1.3055338859558105, Val Accuracy: 56.400001525878906\n",
      "Iteration 600, Epoch 1, Loss: 1.5032511949539185, Accuracy: 46.66181564331055, Val Loss: 1.2973215579986572, Val Accuracy: 54.599998474121094\n",
      "Iteration 700, Epoch 1, Loss: 1.4760308265686035, Accuracy: 47.68857192993164, Val Loss: 1.266981601715088, Val Accuracy: 55.099998474121094\n"
     ]
    }
   ],
   "source": [
    "learning_rate = 3e-3\n",
    "channel_1, channel_2, num_classes = 32, 16, 10\n",
    "\n",
    "def model_init_fn():\n",
    "    model = None\n",
    "    ############################################################################\n",
    "    # TODO: Complete the implementation of model_fn.                           #\n",
    "    ############################################################################\n",
    "    # *****START OF YOUR CODE (DO NOT DELETE/MODIFY THIS LINE)*****\n",
    "\n",
    "    model = ThreeLayerConvNet(channel_1, channel_2, num_classes)\n",
    "\n",
    "    # *****END OF YOUR CODE (DO NOT DELETE/MODIFY THIS LINE)*****\n",
    "    ############################################################################\n",
    "    #                           END OF YOUR CODE                               #\n",
    "    ############################################################################\n",
    "    return model\n",
    "\n",
    "def optimizer_init_fn():\n",
    "    optimizer = None\n",
    "    ############################################################################\n",
    "    # TODO: Complete the implementation of model_fn.                           #\n",
    "    ############################################################################\n",
    "    # *****START OF YOUR CODE (DO NOT DELETE/MODIFY THIS LINE)*****\n",
    "\n",
    "    optimizer = tf.keras.optimizers.SGD(\n",
    "        learning_rate=learning_rate,\n",
    "        momentum=0.9,\n",
    "        nesterov=True)\n",
    "\n",
    "    # *****END OF YOUR CODE (DO NOT DELETE/MODIFY THIS LINE)*****\n",
    "    ############################################################################\n",
    "    #                           END OF YOUR CODE                               #\n",
    "    ############################################################################\n",
    "    return optimizer\n",
    "\n",
    "train_part34(model_init_fn, optimizer_init_fn)"
   ]
  },
  {
   "cell_type": "markdown",
   "metadata": {
    "id": "x_oaQiDaY0m1"
   },
   "source": [
    "# Использование Keras Sequential API для реализации последовательных моделей.\n",
    "\n",
    "Пример для полносвязной сети:"
   ]
  },
  {
   "cell_type": "code",
   "execution_count": 13,
   "metadata": {
    "colab": {
     "base_uri": "https://localhost:8080/"
    },
    "executionInfo": {
     "elapsed": 207289,
     "status": "ok",
     "timestamp": 1604740300994,
     "user": {
      "displayName": "Алена Слуднова",
      "photoUrl": "",
      "userId": "01430899448123173951"
     },
     "user_tz": -240
    },
    "id": "tSdQ3aYgY0m1",
    "outputId": "7ccae620-7ae2-436b-98c9-352f8702d0df"
   },
   "outputs": [
    {
     "name": "stdout",
     "output_type": "stream",
     "text": [
      "Iteration 0, Epoch 1, Loss: 3.0299243927001953, Accuracy: 10.9375, Val Loss: 2.994493246078491, Val Accuracy: 11.0\n",
      "Iteration 100, Epoch 1, Loss: 2.2488906383514404, Accuracy: 29.11509895324707, Val Loss: 1.8926331996917725, Val Accuracy: 39.099998474121094\n",
      "Iteration 200, Epoch 1, Loss: 2.078331232070923, Accuracy: 32.975746154785156, Val Loss: 1.8675116300582886, Val Accuracy: 39.29999923706055\n",
      "Iteration 300, Epoch 1, Loss: 1.9978171586990356, Accuracy: 34.61378860473633, Val Loss: 1.88007652759552, Val Accuracy: 37.79999923706055\n",
      "Iteration 400, Epoch 1, Loss: 1.9293904304504395, Accuracy: 36.40507888793945, Val Loss: 1.7179672718048096, Val Accuracy: 42.5\n",
      "Iteration 500, Epoch 1, Loss: 1.8842988014221191, Accuracy: 37.40019989013672, Val Loss: 1.6630563735961914, Val Accuracy: 43.79999923706055\n",
      "Iteration 600, Epoch 1, Loss: 1.8532198667526245, Accuracy: 38.290348052978516, Val Loss: 1.698543906211853, Val Accuracy: 42.5\n",
      "Iteration 700, Epoch 1, Loss: 1.8274450302124023, Accuracy: 38.95996856689453, Val Loss: 1.6212950944900513, Val Accuracy: 44.5\n"
     ]
    }
   ],
   "source": [
    "learning_rate = 1e-2\n",
    "\n",
    "def model_init_fn():\n",
    "    input_shape = (32, 32, 3)\n",
    "    hidden_layer_size, num_classes = 4000, 10\n",
    "    initializer = tf.initializers.VarianceScaling(scale=2.0)\n",
    "    layers = [\n",
    "        tf.keras.layers.Flatten(input_shape=input_shape),\n",
    "        tf.keras.layers.Dense(hidden_layer_size, activation='relu',\n",
    "                              kernel_initializer=initializer),\n",
    "        tf.keras.layers.Dense(num_classes, activation='softmax', \n",
    "                              kernel_initializer=initializer),\n",
    "    ]\n",
    "    model = tf.keras.Sequential(layers)\n",
    "    return model\n",
    "\n",
    "def optimizer_init_fn():\n",
    "    return tf.keras.optimizers.SGD(learning_rate=learning_rate) \n",
    "\n",
    "train_part34(model_init_fn, optimizer_init_fn)"
   ]
  },
  {
   "cell_type": "markdown",
   "metadata": {
    "id": "cp3H0bfOY0m4"
   },
   "source": [
    "Альтернативный менее гибкий способ обучения:"
   ]
  },
  {
   "cell_type": "code",
   "execution_count": 14,
   "metadata": {
    "colab": {
     "base_uri": "https://localhost:8080/"
    },
    "executionInfo": {
     "elapsed": 274068,
     "status": "ok",
     "timestamp": 1604740367782,
     "user": {
      "displayName": "Алена Слуднова",
      "photoUrl": "",
      "userId": "01430899448123173951"
     },
     "user_tz": -240
    },
    "id": "LWcSAIxZY0m5",
    "outputId": "4322b0c8-03ba-48d4-d519-fce1d4158d79"
   },
   "outputs": [
    {
     "name": "stdout",
     "output_type": "stream",
     "text": [
      "766/766 [==============================] - 9s 12ms/step - loss: 1.8291 - sparse_categorical_accuracy: 0.3867 - val_loss: 1.7037 - val_sparse_categorical_accuracy: 0.4260\n",
      "313/313 [==============================] - 1s 3ms/step - loss: 1.6559 - sparse_categorical_accuracy: 0.4315\n"
     ]
    },
    {
     "data": {
      "text/plain": [
       "[1.6559083461761475, 0.43149998784065247]"
      ]
     },
     "execution_count": 14,
     "metadata": {},
     "output_type": "execute_result"
    }
   ],
   "source": [
    "model = model_init_fn()\n",
    "model.compile(optimizer=tf.keras.optimizers.SGD(learning_rate=learning_rate),\n",
    "              loss='sparse_categorical_crossentropy',\n",
    "              metrics=[tf.keras.metrics.sparse_categorical_accuracy])\n",
    "model.fit(X_train, y_train, batch_size=64, epochs=1, validation_data=(X_val, y_val))\n",
    "model.evaluate(X_test, y_test)"
   ]
  },
  {
   "cell_type": "markdown",
   "metadata": {
    "id": "maGMj2o3Y0m8"
   },
   "source": [
    "Перепишите реализацию трехслойной CNN с помощью tf.keras.Sequential API . Обучите модель двумя способами."
   ]
  },
  {
   "cell_type": "code",
   "execution_count": 15,
   "metadata": {
    "colab": {
     "base_uri": "https://localhost:8080/"
    },
    "executionInfo": {
     "elapsed": 418343,
     "status": "ok",
     "timestamp": 1604740512064,
     "user": {
      "displayName": "Алена Слуднова",
      "photoUrl": "",
      "userId": "01430899448123173951"
     },
     "user_tz": -240
    },
    "id": "vNd49nktY0m9",
    "outputId": "a2c72909-4eee-41ad-abfd-f094a0a173b9"
   },
   "outputs": [
    {
     "name": "stdout",
     "output_type": "stream",
     "text": [
      "Iteration 0, Epoch 1, Loss: 2.816711187362671, Accuracy: 15.625, Val Loss: 2.5846240520477295, Val Accuracy: 13.799999237060547\n",
      "Iteration 100, Epoch 1, Loss: 1.9769022464752197, Accuracy: 30.213489532470703, Val Loss: 1.762237310409546, Val Accuracy: 38.70000076293945\n",
      "Iteration 200, Epoch 1, Loss: 1.8434154987335205, Accuracy: 35.16013717651367, Val Loss: 1.6460498571395874, Val Accuracy: 43.39999771118164\n",
      "Iteration 300, Epoch 1, Loss: 1.774012565612793, Accuracy: 37.448089599609375, Val Loss: 1.5977330207824707, Val Accuracy: 44.20000076293945\n",
      "Iteration 400, Epoch 1, Loss: 1.7166632413864136, Accuracy: 39.46384048461914, Val Loss: 1.5500742197036743, Val Accuracy: 45.400001525878906\n",
      "Iteration 500, Epoch 1, Loss: 1.6783416271209717, Accuracy: 40.82147979736328, Val Loss: 1.4912668466567993, Val Accuracy: 47.5\n",
      "Iteration 600, Epoch 1, Loss: 1.652477741241455, Accuracy: 41.77152633666992, Val Loss: 1.468161702156067, Val Accuracy: 48.5\n",
      "Iteration 700, Epoch 1, Loss: 1.629252552986145, Accuracy: 42.56196594238281, Val Loss: 1.4349524974822998, Val Accuracy: 49.79999923706055\n"
     ]
    }
   ],
   "source": [
    "def model_init_fn():\n",
    "    model = None\n",
    "    ############################################################################\n",
    "    # TODO: Construct a three-layer ConvNet using tf.keras.Sequential.         #\n",
    "    ############################################################################\n",
    "    # *****START OF YOUR CODE (DO NOT DELETE/MODIFY THIS LINE)*****\n",
    "\n",
    "    input_shape = (32, 32, 3)\n",
    "    channel_1, channel_2, num_classes = 32, 16, 10\n",
    "    # захотелось разнообразия, добавила инициалайзер\n",
    "    initializer = tf.initializers.VarianceScaling(scale=2.0)\n",
    "    layers = [\n",
    "        tf.keras.layers.Conv2D(channel_1, 5, padding='same',\n",
    "                               activation='relu', kernel_initializer=initializer,\n",
    "                               input_shape=input_shape),\n",
    "        tf.keras.layers.Conv2D(channel_2, 3, padding='same',\n",
    "                               activation='relu', kernel_initializer=initializer),\n",
    "        tf.keras.layers.Flatten(),\n",
    "        tf.keras.layers.Dense(num_classes,\n",
    "                              activation='softmax', kernel_initializer=initializer)\n",
    "    ]\n",
    "    model = tf.keras.Sequential(layers)\n",
    "\n",
    "    # *****END OF YOUR CODE (DO NOT DELETE/MODIFY THIS LINE)*****\n",
    "    ############################################################################\n",
    "    #                            END OF YOUR CODE                              #\n",
    "    ############################################################################\n",
    "    return model\n",
    "\n",
    "learning_rate = 5e-4\n",
    "def optimizer_init_fn():\n",
    "    optimizer = None\n",
    "    ############################################################################\n",
    "    # TODO: Complete the implementation of model_fn.                           #\n",
    "    ############################################################################\n",
    "    # *****START OF YOUR CODE (DO NOT DELETE/MODIFY THIS LINE)*****\n",
    "\n",
    "    optimizer = tf.keras.optimizers.SGD(\n",
    "        learning_rate=learning_rate,\n",
    "        momentum=0.9,\n",
    "        nesterov=True)\n",
    "\n",
    "    # *****END OF YOUR CODE (DO NOT DELETE/MODIFY THIS LINE)*****\n",
    "    ############################################################################\n",
    "    #                           END OF YOUR CODE                               #\n",
    "    ############################################################################\n",
    "    return optimizer\n",
    "\n",
    "train_part34(model_init_fn, optimizer_init_fn)"
   ]
  },
  {
   "cell_type": "code",
   "execution_count": 16,
   "metadata": {
    "colab": {
     "base_uri": "https://localhost:8080/"
    },
    "executionInfo": {
     "elapsed": 542345,
     "status": "ok",
     "timestamp": 1604740636073,
     "user": {
      "displayName": "Алена Слуднова",
      "photoUrl": "",
      "userId": "01430899448123173951"
     },
     "user_tz": -240
    },
    "id": "dd2y_l6-Y0nA",
    "outputId": "d534c790-d00c-4e69-fb7e-0b4a53f82c52"
   },
   "outputs": [
    {
     "name": "stdout",
     "output_type": "stream",
     "text": [
      "  1/766 [..............................] - ETA: 0s - loss: 3.0465 - sparse_categorical_accuracy: 0.0625WARNING:tensorflow:Callbacks method `on_train_batch_end` is slow compared to the batch time (batch time: 0.0040s vs `on_train_batch_end` time: 0.0070s). Check your callbacks.\n",
      "766/766 [==============================] - 8s 11ms/step - loss: 1.5505 - sparse_categorical_accuracy: 0.4517 - val_loss: 1.2752 - val_sparse_categorical_accuracy: 0.5620\n",
      "313/313 [==============================] - 1s 3ms/step - loss: 1.2999 - sparse_categorical_accuracy: 0.5388\n"
     ]
    },
    {
     "data": {
      "text/plain": [
       "[1.299912929534912, 0.5388000011444092]"
      ]
     },
     "execution_count": 16,
     "metadata": {},
     "output_type": "execute_result"
    }
   ],
   "source": [
    "model = model_init_fn()\n",
    "model.compile(optimizer='sgd',\n",
    "              loss='sparse_categorical_crossentropy',\n",
    "              metrics=[tf.keras.metrics.sparse_categorical_accuracy])\n",
    "model.fit(X_train, y_train, batch_size=64, epochs=1, validation_data=(X_val, y_val))\n",
    "model.evaluate(X_test, y_test)"
   ]
  },
  {
   "cell_type": "markdown",
   "metadata": {
    "id": "GcN0pE1uY0nC"
   },
   "source": [
    "# Использование Keras Functional API\n",
    "\n",
    "Для реализации более сложных архитектур сети с несколькими входами/выходами, повторным использованием слоев, \"остаточными\" связями (residual connections) необходимо явно указать входные и выходные тензоры. \n",
    "\n",
    "Ниже представлен пример для полносвязной сети. "
   ]
  },
  {
   "cell_type": "code",
   "execution_count": 17,
   "metadata": {
    "colab": {
     "base_uri": "https://localhost:8080/"
    },
    "executionInfo": {
     "elapsed": 542339,
     "status": "ok",
     "timestamp": 1604740636074,
     "user": {
      "displayName": "Алена Слуднова",
      "photoUrl": "",
      "userId": "01430899448123173951"
     },
     "user_tz": -240
    },
    "id": "xGlOm5X-Y0nC",
    "outputId": "d83ce3bb-9d09-4589-c3af-8d4c2d51e95c"
   },
   "outputs": [
    {
     "name": "stdout",
     "output_type": "stream",
     "text": [
      "(64, 10)\n"
     ]
    }
   ],
   "source": [
    "def two_layer_fc_functional(input_shape, hidden_size, num_classes):  \n",
    "    initializer = tf.initializers.VarianceScaling(scale=2.0)\n",
    "    inputs = tf.keras.Input(shape=input_shape)\n",
    "    flattened_inputs = tf.keras.layers.Flatten()(inputs)\n",
    "    fc1_output = tf.keras.layers.Dense(hidden_size, activation='relu',\n",
    "                                 kernel_initializer=initializer)(flattened_inputs)\n",
    "    scores = tf.keras.layers.Dense(num_classes, activation='softmax',\n",
    "                             kernel_initializer=initializer)(fc1_output)\n",
    "\n",
    "    # Instantiate the model given inputs and outputs.\n",
    "    model = tf.keras.Model(inputs=inputs, outputs=scores)\n",
    "    return model\n",
    "\n",
    "def test_two_layer_fc_functional():\n",
    "    \"\"\" A small unit test to exercise the TwoLayerFC model above. \"\"\"\n",
    "    input_size, hidden_size, num_classes = 50, 42, 10\n",
    "    input_shape = (50,)\n",
    "    \n",
    "    x = tf.zeros((64, input_size))\n",
    "    model = two_layer_fc_functional(input_shape, hidden_size, num_classes)\n",
    "    \n",
    "    with tf.device(device):\n",
    "        scores = model(x)\n",
    "        print(scores.shape)\n",
    "        \n",
    "test_two_layer_fc_functional()"
   ]
  },
  {
   "cell_type": "code",
   "execution_count": 18,
   "metadata": {
    "colab": {
     "base_uri": "https://localhost:8080/"
    },
    "executionInfo": {
     "elapsed": 609856,
     "status": "ok",
     "timestamp": 1604740703598,
     "user": {
      "displayName": "Алена Слуднова",
      "photoUrl": "",
      "userId": "01430899448123173951"
     },
     "user_tz": -240
    },
    "id": "I6hJkw50Y0nE",
    "outputId": "b7482fa9-5f43-4690-d19a-973614f2c2e5"
   },
   "outputs": [
    {
     "name": "stdout",
     "output_type": "stream",
     "text": [
      "Iteration 0, Epoch 1, Loss: 2.9012584686279297, Accuracy: 10.9375, Val Loss: 2.803870677947998, Val Accuracy: 11.300000190734863\n",
      "Iteration 100, Epoch 1, Loss: 2.2308576107025146, Accuracy: 28.62004852294922, Val Loss: 1.918965458869934, Val Accuracy: 36.70000076293945\n",
      "Iteration 200, Epoch 1, Loss: 2.0755867958068848, Accuracy: 32.06623077392578, Val Loss: 1.8362841606140137, Val Accuracy: 37.900001525878906\n",
      "Iteration 300, Epoch 1, Loss: 1.9990183115005493, Accuracy: 33.82474899291992, Val Loss: 1.864819884300232, Val Accuracy: 37.79999923706055\n",
      "Iteration 400, Epoch 1, Loss: 1.9299622774124146, Accuracy: 35.653053283691406, Val Loss: 1.7135390043258667, Val Accuracy: 41.70000076293945\n",
      "Iteration 500, Epoch 1, Loss: 1.8866677284240723, Accuracy: 36.71718978881836, Val Loss: 1.6585328578948975, Val Accuracy: 41.70000076293945\n",
      "Iteration 600, Epoch 1, Loss: 1.8564320802688599, Accuracy: 37.68198776245117, Val Loss: 1.6913734674453735, Val Accuracy: 40.099998474121094\n",
      "Iteration 700, Epoch 1, Loss: 1.831746220588684, Accuracy: 38.35145950317383, Val Loss: 1.6523406505584717, Val Accuracy: 44.10000228881836\n"
     ]
    }
   ],
   "source": [
    "input_shape = (32, 32, 3)\n",
    "hidden_size, num_classes = 4000, 10\n",
    "learning_rate = 1e-2\n",
    "\n",
    "def model_init_fn():\n",
    "    return two_layer_fc_functional(input_shape, hidden_size, num_classes)\n",
    "\n",
    "def optimizer_init_fn():\n",
    "    return tf.keras.optimizers.SGD(learning_rate=learning_rate)\n",
    "\n",
    "train_part34(model_init_fn, optimizer_init_fn)"
   ]
  },
  {
   "cell_type": "markdown",
   "metadata": {
    "id": "ZIuK8QEuY0nG"
   },
   "source": [
    "- **Filter size**: Above we used 5x5 and 3x3; is this optimal?\n",
    "- **Number of filters**: Above we used 16 and 32 filters. Would more or fewer do better?\n",
    "- **Pooling**: We didn't use any pooling above. Would this improve the model?\n",
    "- **Normalization**: Would your model be improved with batch normalization, layer normalization, group normalization, or some other normalization strategy?\n",
    "- **Network architecture**: The ConvNet above has only three layers of trainable parameters. Would a deeper model do better?\n",
    "- **Global average pooling**: Instead of flattening after the final convolutional layer, would global average pooling do better? This strategy is used for example in Google's Inception network and in Residual Networks.\n",
    "- **Regularization**: Would some kind of regularization improve performance? Maybe weight decay or dropout?"
   ]
  },
  {
   "cell_type": "markdown",
   "metadata": {
    "id": "Ljokh509Y0nG"
   },
   "source": [
    "Поэкспериментируйте с архитектурой сверточной сети. Для вашего набора данных вам необходимо получить как минимум 70% accuracy на валидационной выборке за 10 эпох обучения. Опишите все эксперименты и сделайте выводы (без выполнения данного пункта работы приниматься не будут). \n",
    "\n",
    "Эспериментируйте с архитектурой, гиперпараметрами, функцией потерь, регуляризацией, методом оптимизации.  \n",
    "\n",
    "https://www.tensorflow.org/versions/r2.0/api_docs/python/tf/keras/layers/BatchNormalization#methods https://www.tensorflow.org/versions/r2.0/api_docs/python/tf/keras/layers/Dropout#methods"
   ]
  },
  {
   "cell_type": "code",
   "execution_count": 20,
   "metadata": {
    "colab": {
     "base_uri": "https://localhost:8080/"
    },
    "id": "EE_4ZP3BY0nH",
    "outputId": "4d6babf4-765a-4756-b03c-830174486cb9"
   },
   "outputs": [
    {
     "name": "stdout",
     "output_type": "stream",
     "text": [
      "Iteration 0, Epoch 1, Loss: 3.6868598461151123, Accuracy: 7.8125, Val Loss: 2.288907527923584, Val Accuracy: 13.799999237060547\n",
      "Iteration 700, Epoch 1, Loss: 1.6026955842971802, Accuracy: 46.05251693725586, Val Loss: 1.268660306930542, Val Accuracy: 55.0\n",
      "Iteration 1400, Epoch 2, Loss: 1.0632737874984741, Accuracy: 62.70423126220703, Val Loss: 1.1362545490264893, Val Accuracy: 59.20000076293945\n",
      "Iteration 2100, Epoch 3, Loss: 0.9266433715820312, Accuracy: 67.73396301269531, Val Loss: 1.1207503080368042, Val Accuracy: 61.599998474121094\n",
      "Iteration 2800, Epoch 4, Loss: 0.8367145657539368, Accuracy: 70.74739074707031, Val Loss: 1.109132170677185, Val Accuracy: 62.30000305175781\n",
      "Iteration 3500, Epoch 5, Loss: 0.7689974308013916, Accuracy: 73.3659896850586, Val Loss: 0.8558132648468018, Val Accuracy: 69.80000305175781\n",
      "Iteration 4200, Epoch 6, Loss: 0.6971839666366577, Accuracy: 75.49696350097656, Val Loss: 0.8719804286956787, Val Accuracy: 70.0\n",
      "Iteration 4900, Epoch 7, Loss: 0.6489784717559814, Accuracy: 77.08504486083984, Val Loss: 0.928968071937561, Val Accuracy: 69.0999984741211\n",
      "Iteration 5600, Epoch 8, Loss: 0.5879208445549011, Accuracy: 79.24948120117188, Val Loss: 0.8948982357978821, Val Accuracy: 70.0\n",
      "Iteration 6300, Epoch 9, Loss: 0.5289168357849121, Accuracy: 81.17774963378906, Val Loss: 0.9353801608085632, Val Accuracy: 70.20000457763672\n",
      "Iteration 7000, Epoch 10, Loss: 0.4859355688095093, Accuracy: 82.59346008300781, Val Loss: 1.0010600090026855, Val Accuracy: 70.0999984741211\n"
     ]
    }
   ],
   "source": [
    "class CustomConvNet(tf.keras.Model):\n",
    "    def __init__(self):\n",
    "        super(CustomConvNet, self).__init__()\n",
    "        ############################################################################\n",
    "        # TODO: Construct a model that performs well on CIFAR-10                   #\n",
    "        ############################################################################\n",
    "        # *****START OF YOUR CODE (DO NOT DELETE/MODIFY THIS LINE)*****\n",
    "        \n",
    "        self.conv1_1 = tf.keras.layers.Conv2D(16, (5, 5), padding=\"same\", activation='relu')\n",
    "        self.conv1_2 = tf.keras.layers.Conv2D(16, (5, 5), padding=\"same\", activation='relu')\n",
    "        self.norm1 = tf.keras.layers.BatchNormalization(axis=1)\n",
    "        self.pool1 = tf.keras.layers.MaxPooling2D(pool_size=(2, 2))\n",
    "\n",
    "        self.conv2_1 = tf.keras.layers.Conv2D(32, (3, 3), padding=\"same\", activation='relu')\n",
    "        self.conv2_2 = tf.keras.layers.Conv2D(32, (3, 3), padding=\"same\", activation='relu')\n",
    "        self.norm2 = tf.keras.layers.BatchNormalization(axis=1)\n",
    "        self.pool2 = tf.keras.layers.MaxPooling2D(pool_size=(2, 2))\n",
    "\n",
    "        self.flatten = tf.keras.layers.Flatten()\n",
    "        self.dense3 = tf.keras.layers.Dense(512, activation='relu')\n",
    "        self.norm3 = tf.keras.layers.BatchNormalization()\n",
    "        self.drop = tf.keras.layers.Dropout(0.5)\n",
    "\n",
    "        self.dense4 = tf.keras.layers.Dense(10, activation='softmax')\n",
    "\n",
    "        # *****END OF YOUR CODE (DO NOT DELETE/MODIFY THIS LINE)*****\n",
    "        ############################################################################\n",
    "        #                            END OF YOUR CODE                              #\n",
    "        ############################################################################\n",
    "    \n",
    "    def call(self, input_tensor, training=False):\n",
    "        ############################################################################\n",
    "        # TODO: Construct a model that performs well on CIFAR-10                   #\n",
    "        ############################################################################\n",
    "        # *****START OF YOUR CODE (DO NOT DELETE/MODIFY THIS LINE)*****\n",
    "\n",
    "        x = self.conv1_1(input_tensor)\n",
    "        x = self.conv1_2(x)\n",
    "        x = self.norm1(x)\n",
    "        x = self.pool1(x)\n",
    "\n",
    "        x = self.conv2_1(x)\n",
    "        x = self.conv2_2(x)\n",
    "        x = self.norm2(x)\n",
    "        x = self.pool2(x)\n",
    "\n",
    "        x = self.flatten(x)\n",
    "        x = self.dense3(x)\n",
    "        x = self.norm3(x)\n",
    "        x = self.drop(x)\n",
    "\n",
    "        x = self.dense4(x)\n",
    "\n",
    "        # *****END OF YOUR CODE (DO NOT DELETE/MODIFY THIS LINE)*****\n",
    "        ############################################################################\n",
    "        #                            END OF YOUR CODE                              #\n",
    "        ############################################################################\n",
    "        return x\n",
    "\n",
    "\n",
    "print_every = 700\n",
    "num_epochs = 10\n",
    "\n",
    "model = CustomConvNet()\n",
    "\n",
    "def model_init_fn():\n",
    "    return CustomConvNet()\n",
    "\n",
    "def optimizer_init_fn():\n",
    "    learning_rate = 1e-3\n",
    "    return tf.keras.optimizers.Adam(learning_rate) \n",
    "\n",
    "train_part34(model_init_fn, optimizer_init_fn, num_epochs=num_epochs, is_training=True)"
   ]
  },
  {
   "cell_type": "markdown",
   "metadata": {
    "id": "tG2bN2XDY0nJ"
   },
   "source": [
    "Опишите все эксперименты, результаты. Сделайте выводы."
   ]
  },
  {
   "cell_type": "markdown",
   "metadata": {},
   "source": [
    "Первая самая ленивая идея - использовать трёхслойную сеть, которая была реализована раньше. На третьей эпохе были достигнуты многообещающие 62% точности на валидационной выборке, но... не вышло.\n",
    "\n",
    "Вторая проба - после свёрточных слоёв вставить нормализацию по батчам и сделать макспулинг. Очень плохо, даже до 40% не дотянуло. :с\n",
    "\n",
    "Третья попытка - три слоя с нормализацией и макспулингом. Фильтры 16, 32, 64. К десятой эпохе точность на валидации 12%, на обучающей - почти 80%. Грустно.\n",
    "\n",
    "Четыре. Добавила kernel_regularizer. Лучше не стало.\n",
    "\n",
    "Пять. Убрала регуляризацию. Добавила ещё один полносвязный слой перед выходным (512 нейрончиков). Очень многообещающее начало, добрались до 47% к шестой эпохе, на десятой вернулись к 21%.\n",
    "\n",
    "ШЕСТЬ. Возникла идея добавить ещё свёрточных слоёв таким образом, чтобы нормализация и пулинг происходили через каждые два слоя. После первого полносвязного слоя добавила dropout. 3, 2, 1... Удача! \n",
    "\n",
    "Сами свёрточные слои немного поправила - у первых двух 16 фильтров, у второй пары - по 32."
   ]
  },
  {
   "cell_type": "markdown",
   "metadata": {},
   "source": [
    "Комментарий: в первые несколько попыток я совершила довольно нехорошую ошибку, когда пыталась переиспользовать слои, так что полученные результаты нельзя назвать релевантными. \n",
    "\n",
    "В целом до использования дропаута иногда появлялось что-то, похожее на переобучение - точность на трейне была очень хорошей, а точность на валидации падала до значений меньше 10%. \n",
    "\n",
    "В целом добавление новых слоёв, пулинг, нормализация и дропауты положительно сказываются на качестве моделей, но нельзя забывать про баланс точности/производительности (чем больше слоёв, тем большее время требуется для расчётов)."
   ]
  },
  {
   "cell_type": "code",
   "execution_count": null,
   "metadata": {
    "id": "jkrOjwXyY0nJ"
   },
   "outputs": [],
   "source": []
  }
 ],
 "metadata": {
  "colab": {
   "collapsed_sections": [],
   "name": "assignment4.ipynb",
   "provenance": []
  },
  "kernelspec": {
   "display_name": "Python 3",
   "language": "python",
   "name": "python3"
  },
  "language_info": {
   "codemirror_mode": {
    "name": "ipython",
    "version": 3
   },
   "file_extension": ".py",
   "mimetype": "text/x-python",
   "name": "python",
   "nbconvert_exporter": "python",
   "pygments_lexer": "ipython3",
   "version": "3.8.3"
  }
 },
 "nbformat": 4,
 "nbformat_minor": 1
}
